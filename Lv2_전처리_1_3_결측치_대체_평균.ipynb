{
  "nbformat": 4,
  "nbformat_minor": 0,
  "metadata": {
    "colab": {
      "name": "Lv2 전처리 1/3 결측치 대체 평균",
      "provenance": [],
      "collapsed_sections": [
        "6XMZVB_z6zHM"
      ],
      "include_colab_link": true
    },
    "kernelspec": {
      "name": "python3",
      "display_name": "Python 3"
    },
    "language_info": {
      "name": "python"
    }
  },
  "cells": [
    {
      "cell_type": "markdown",
      "metadata": {
        "id": "view-in-github",
        "colab_type": "text"
      },
      "source": [
        "<a href=\"https://colab.research.google.com/github/vavana619/Dacon-Daily-Python-Camp/blob/main/Lv2_%EC%A0%84%EC%B2%98%EB%A6%AC_1_3_%EA%B2%B0%EC%B8%A1%EC%B9%98_%EB%8C%80%EC%B2%B4_%ED%8F%89%EA%B7%A0.ipynb\" target=\"_parent\"><img src=\"https://colab.research.google.com/assets/colab-badge.svg\" alt=\"Open In Colab\"/></a>"
      ]
    },
    {
      "cell_type": "markdown",
      "metadata": {
        "id": "vIpjpOEXsoW0"
      },
      "source": [
        "# [↩️ 리스트로 돌아가기](https://dacon.io/competitions/open/235698/overview/description)"
      ]
    },
    {
      "cell_type": "markdown",
      "metadata": {
        "id": "Y8EsppNShcez"
      },
      "source": [
        "# 셀을 실행할 때 팝업이 뜨면 `무시하고 계속하기` 를 눌러주세요\n"
      ]
    },
    {
      "cell_type": "markdown",
      "metadata": {
        "id": "FqodyLxg4RLu"
      },
      "source": [
        "## 데이터 다운로드\n",
        "--- \n",
        "아래 셀을 실행시켜 데이터를 colab에 불러옵니다.  \n",
        "셀 실행은 <br>Windows: `Ctrl` + `Enter`<br>\n",
        "Mac: `Shift` + `Enter` <br>\n",
        "를 이용해 실행 시킬 수 있습니다. "
      ]
    },
    {
      "cell_type": "code",
      "metadata": {
        "id": "by55dpRPfTwZ",
        "outputId": "7070a9d5-1c88-4c11-b271-29c7e1da4150",
        "colab": {
          "base_uri": "https://localhost:8080/"
        }
      },
      "source": [
        "# 데이터 다운로드 링크로 데이터를 코랩에 불러옵니다.\n",
        "\n",
        "!wget 'https://bit.ly/3gLj0Q6'\n",
        "\n",
        "import zipfile\n",
        "with zipfile.ZipFile('3gLj0Q6', 'r') as existing_zip:\n",
        "    existing_zip.extractall('data')"
      ],
      "execution_count": null,
      "outputs": [
        {
          "output_type": "stream",
          "name": "stdout",
          "text": [
            "--2022-05-15 02:57:28--  https://bit.ly/3gLj0Q6\n",
            "Resolving bit.ly (bit.ly)... 67.199.248.11, 67.199.248.10\n",
            "Connecting to bit.ly (bit.ly)|67.199.248.11|:443... connected.\n",
            "HTTP request sent, awaiting response... 301 Moved Permanently\n",
            "Location: https://drive.google.com/uc?export=download&id=1or_QN1ksv81DNog6Tu_kWcZ5jJWf5W9E [following]\n",
            "--2022-05-15 02:57:28--  https://drive.google.com/uc?export=download&id=1or_QN1ksv81DNog6Tu_kWcZ5jJWf5W9E\n",
            "Resolving drive.google.com (drive.google.com)... 74.125.195.139, 74.125.195.113, 74.125.195.101, ...\n",
            "Connecting to drive.google.com (drive.google.com)|74.125.195.139|:443... connected.\n",
            "HTTP request sent, awaiting response... 303 See Other\n",
            "Location: https://doc-0c-10-docs.googleusercontent.com/docs/securesc/ha0ro937gcuc7l7deffksulhg5h7mbp1/ufrbkhojo1t5s9llh9gu66fopig8sfrk/1652583375000/17946651057176172524/*/1or_QN1ksv81DNog6Tu_kWcZ5jJWf5W9E?e=download [following]\n",
            "Warning: wildcards not supported in HTTP.\n",
            "--2022-05-15 02:57:28--  https://doc-0c-10-docs.googleusercontent.com/docs/securesc/ha0ro937gcuc7l7deffksulhg5h7mbp1/ufrbkhojo1t5s9llh9gu66fopig8sfrk/1652583375000/17946651057176172524/*/1or_QN1ksv81DNog6Tu_kWcZ5jJWf5W9E?e=download\n",
            "Resolving doc-0c-10-docs.googleusercontent.com (doc-0c-10-docs.googleusercontent.com)... 74.125.195.132, 2607:f8b0:400e:c09::84\n",
            "Connecting to doc-0c-10-docs.googleusercontent.com (doc-0c-10-docs.googleusercontent.com)|74.125.195.132|:443... connected.\n",
            "HTTP request sent, awaiting response... 200 OK\n",
            "Length: 39208 (38K) [application/zip]\n",
            "Saving to: ‘3gLj0Q6’\n",
            "\n",
            "3gLj0Q6             100%[===================>]  38.29K  --.-KB/s    in 0.001s  \n",
            "\n",
            "2022-05-15 02:57:29 (65.8 MB/s) - ‘3gLj0Q6’ saved [39208/39208]\n",
            "\n"
          ]
        }
      ]
    },
    {
      "cell_type": "markdown",
      "metadata": {
        "id": "ZksEbPou52yW"
      },
      "source": [
        "## 데이터 불러오기\n",
        "---"
      ]
    },
    {
      "cell_type": "code",
      "metadata": {
        "id": "YdvozqoZ4uhk"
      },
      "source": [
        "import pandas as pd\n",
        "\n",
        "train = pd.read_csv('data/train.csv')\n",
        "test = pd.read_csv('data/test.csv')"
      ],
      "execution_count": null,
      "outputs": []
    },
    {
      "cell_type": "markdown",
      "metadata": {
        "id": "J1Is2vFL4cxY"
      },
      "source": [
        "## 👋 실습\n",
        "---\n",
        "결측치가 있는 피쳐를 살펴본 후, 각 평균치로 대체해주세요"
      ]
    },
    {
      "cell_type": "markdown",
      "metadata": {
        "id": "bp9dLR4e6DV2"
      },
      "source": [
        "## 결측치가 있는 피쳐 살펴보기\n",
        "---"
      ]
    },
    {
      "cell_type": "code",
      "metadata": {
        "id": "556GGn0866qk",
        "outputId": "404ecbf2-6e2e-457e-bc97-d74350f99b72",
        "colab": {
          "base_uri": "https://localhost:8080/"
        }
      },
      "source": [
        "print(train.isnull().sum())"
      ],
      "execution_count": null,
      "outputs": [
        {
          "output_type": "stream",
          "name": "stdout",
          "text": [
            "id                          0\n",
            "hour                        0\n",
            "hour_bef_temperature        2\n",
            "hour_bef_precipitation      2\n",
            "hour_bef_windspeed          9\n",
            "hour_bef_humidity           2\n",
            "hour_bef_visibility         2\n",
            "hour_bef_ozone             76\n",
            "hour_bef_pm10              90\n",
            "hour_bef_pm2.5            117\n",
            "count                       0\n",
            "dtype: int64\n"
          ]
        }
      ]
    },
    {
      "cell_type": "markdown",
      "metadata": {
        "id": "Jn_Cqwod6PSe"
      },
      "source": [
        "## 결측치 평균값으로 대체하기\n",
        "---\n",
        "fillna() 를 이용해 결측치를 각 피쳐의 평균값으로 대체하는 코드를 아래에 작성하세요.\n",
        "\n",
        "**df.fillna({'칼럼명':int(df['칼럼명'].mean)}, inplace=True)**\n",
        "\n",
        "* inplace = True -> 바로 Dataframe에 반영"
      ]
    },
    {
      "cell_type": "code",
      "metadata": {
        "id": "bHs-y9Eq6eze"
      },
      "source": [
        "train.fillna({'hour_bef_temperature':int(train['hour_bef_temperature'].mean())}, inplace=True)\n",
        "train.fillna({'hour_bef_precipitation':int(train['hour_bef_precipitation'].mean())}, inplace=True)\n",
        "train.fillna({'hour_bef_windspeed':int(train['hour_bef_windspeed'].mean())}, inplace=True)\n",
        "train.fillna({'hour_bef_humidity':int(train['hour_bef_humidity'].mean())}, inplace=True)\n",
        "train.fillna({'hour_bef_visibility':int(train['hour_bef_visibility'].mean())}, inplace=True)\n",
        "train.fillna({'hour_bef_ozone':int(train['hour_bef_ozone'].mean())}, inplace=True)\n",
        "train.fillna({'hour_bef_pm10':int(train['hour_bef_pm10'].mean())}, inplace=True)\n",
        "train.fillna({'hour_bef_pm2.5':int(train['hour_bef_pm2.5'].mean())}, inplace=True)"
      ],
      "execution_count": null,
      "outputs": []
    },
    {
      "cell_type": "markdown",
      "metadata": {
        "id": "16O7JmAx6glC"
      },
      "source": [
        "## 결과확인\n",
        "---"
      ]
    },
    {
      "cell_type": "code",
      "metadata": {
        "id": "B8L8r5lg6iz0",
        "outputId": "8c7e8865-24ce-4452-8cd5-0f8d38cb0839",
        "colab": {
          "base_uri": "https://localhost:8080/"
        }
      },
      "source": [
        "print(train.isnull().sum()) # 이전과 달리 피쳐의 결측치 수가 0인 것을 볼 수 있음"
      ],
      "execution_count": null,
      "outputs": [
        {
          "output_type": "stream",
          "name": "stdout",
          "text": [
            "id                        0\n",
            "hour                      0\n",
            "hour_bef_temperature      0\n",
            "hour_bef_precipitation    0\n",
            "hour_bef_windspeed        0\n",
            "hour_bef_humidity         0\n",
            "hour_bef_visibility       0\n",
            "hour_bef_ozone            0\n",
            "hour_bef_pm10             0\n",
            "hour_bef_pm2.5            0\n",
            "count                     0\n",
            "dtype: int64\n"
          ]
        }
      ]
    },
    {
      "cell_type": "markdown",
      "metadata": {
        "id": "6XMZVB_z6zHM"
      },
      "source": [
        "## 정답"
      ]
    },
    {
      "cell_type": "code",
      "metadata": {
        "id": "SDEf32IYlAab"
      },
      "source": [
        "import pandas as pd\n",
        "\n",
        "# 정답 코드\n",
        "train = pd.read_csv('data/train.csv') \n",
        "test = pd.read_csv('data/test.csv')"
      ],
      "execution_count": null,
      "outputs": []
    },
    {
      "cell_type": "code",
      "metadata": {
        "id": "K7pzF9vhsotR"
      },
      "source": [
        "print(train.isnull().sum())"
      ],
      "execution_count": null,
      "outputs": []
    },
    {
      "cell_type": "code",
      "metadata": {
        "id": "iAwjO0wFnRZQ"
      },
      "source": [
        "train.fillna({'hour_bef_temperature':int(train['hour_bef_temperature'].mean())}, inplace=True)\n",
        "train.fillna({'hour_bef_precipitation':int(train['hour_bef_precipitation'].mean())}, inplace=True)\n",
        "train.fillna({'hour_bef_windspeed':int(train['hour_bef_windspeed'].mean())}, inplace=True)\n",
        "train.fillna({'hour_bef_humidity':int(train['hour_bef_humidity'].mean())}, inplace=True)\n",
        "train.fillna({'hour_bef_visibility':int(train['hour_bef_visibility'].mean())}, inplace=True)\n",
        "train.fillna({'hour_bef_ozone':int(train['hour_bef_ozone'].mean())}, inplace=True)\n",
        "train.fillna({'hour_bef_pm10':int(train['hour_bef_pm10'].mean())}, inplace=True)\n",
        "train.fillna({'hour_bef_pm2.5':int(train['hour_bef_pm2.5'].mean())}, inplace=True)\n"
      ],
      "execution_count": null,
      "outputs": []
    },
    {
      "cell_type": "code",
      "metadata": {
        "id": "3CBulD-c4IjV"
      },
      "source": [
        "print(train.isnull().sum())"
      ],
      "execution_count": null,
      "outputs": []
    },
    {
      "cell_type": "markdown",
      "metadata": {
        "id": "K8YgC54VtiB7"
      },
      "source": [
        "# [↩️ 리스트로 돌아가기](https://dacon.io/competitions/open/235698/overview/description)"
      ]
    }
  ]
}
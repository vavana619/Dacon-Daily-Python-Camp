{
  "nbformat": 4,
  "nbformat_minor": 0,
  "metadata": {
    "colab": {
      "name": "Lv1_EDA_5/5_결측치확인하기(isnull,sum).ipynb",
      "provenance": [],
      "collapsed_sections": [
        "AUk_fCmVhtIc"
      ],
      "include_colab_link": true
    },
    "kernelspec": {
      "name": "python3",
      "display_name": "Python 3"
    },
    "language_info": {
      "name": "python"
    }
  },
  "cells": [
    {
      "cell_type": "markdown",
      "metadata": {
        "id": "view-in-github",
        "colab_type": "text"
      },
      "source": [
        "<a href=\"https://colab.research.google.com/github/vavana619/Dacon-Daily-Python-Camp/blob/main/Lv1_EDA_5_5_%EA%B2%B0%EC%B8%A1%EC%B9%98%ED%99%95%EC%9D%B8%ED%95%98%EA%B8%B0(isnull%2Csum).ipynb\" target=\"_parent\"><img src=\"https://colab.research.google.com/assets/colab-badge.svg\" alt=\"Open In Colab\"/></a>"
      ]
    },
    {
      "cell_type": "markdown",
      "metadata": {
        "id": "vIpjpOEXsoW0"
      },
      "source": [
        "# [↩️ 리스트로 돌아가기](https://dacon.io/competitions/open/235698/overview/description)"
      ]
    },
    {
      "cell_type": "markdown",
      "metadata": {
        "id": "-Xk4YBNFhkPe"
      },
      "source": [
        "# 셀을 실행할 때 팝업이 뜨면 `무시하고 계속하기` 를 눌러주세요\n"
      ]
    },
    {
      "cell_type": "markdown",
      "metadata": {
        "id": "7A1_NrpnNgI0"
      },
      "source": [
        "## 데이터 다운로드\n",
        "--- \n",
        "아래 셀을 실행시켜 데이터를 colab에 불러옵니다.  \n",
        "셀 실행은 Ctrl + Enter 를 이용해 실행 시킬 수 있습니다. "
      ]
    },
    {
      "cell_type": "code",
      "metadata": {
        "id": "a3VxvpLvhnap",
        "outputId": "b6681fa4-7572-434c-91ba-e484419ab556",
        "colab": {
          "base_uri": "https://localhost:8080/"
        }
      },
      "source": [
        "# 데이터 다운로드 링크로 데이터를 코랩에 불러옵니다.\n",
        "\n",
        "!wget 'https://bit.ly/3gLj0Q6'\n",
        "\n",
        "import zipfile\n",
        "with zipfile.ZipFile('3gLj0Q6', 'r') as existing_zip:\n",
        "    existing_zip.extractall('data')"
      ],
      "execution_count": null,
      "outputs": [
        {
          "output_type": "stream",
          "name": "stdout",
          "text": [
            "--2022-05-15 02:31:41--  https://bit.ly/3gLj0Q6\n",
            "Resolving bit.ly (bit.ly)... 67.199.248.10, 67.199.248.11\n",
            "Connecting to bit.ly (bit.ly)|67.199.248.10|:443... connected.\n",
            "HTTP request sent, awaiting response... 301 Moved Permanently\n",
            "Location: https://drive.google.com/uc?export=download&id=1or_QN1ksv81DNog6Tu_kWcZ5jJWf5W9E [following]\n",
            "--2022-05-15 02:31:41--  https://drive.google.com/uc?export=download&id=1or_QN1ksv81DNog6Tu_kWcZ5jJWf5W9E\n",
            "Resolving drive.google.com (drive.google.com)... 74.125.204.101, 74.125.204.113, 74.125.204.138, ...\n",
            "Connecting to drive.google.com (drive.google.com)|74.125.204.101|:443... connected.\n",
            "HTTP request sent, awaiting response... 303 See Other\n",
            "Location: https://doc-0c-10-docs.googleusercontent.com/docs/securesc/ha0ro937gcuc7l7deffksulhg5h7mbp1/vlmg4u49kdvbqfmlv0v81qvaiu9p74bv/1652581875000/17946651057176172524/*/1or_QN1ksv81DNog6Tu_kWcZ5jJWf5W9E?e=download [following]\n",
            "Warning: wildcards not supported in HTTP.\n",
            "--2022-05-15 02:31:42--  https://doc-0c-10-docs.googleusercontent.com/docs/securesc/ha0ro937gcuc7l7deffksulhg5h7mbp1/vlmg4u49kdvbqfmlv0v81qvaiu9p74bv/1652581875000/17946651057176172524/*/1or_QN1ksv81DNog6Tu_kWcZ5jJWf5W9E?e=download\n",
            "Resolving doc-0c-10-docs.googleusercontent.com (doc-0c-10-docs.googleusercontent.com)... 142.250.157.132, 2404:6800:4008:c13::84\n",
            "Connecting to doc-0c-10-docs.googleusercontent.com (doc-0c-10-docs.googleusercontent.com)|142.250.157.132|:443... connected.\n",
            "HTTP request sent, awaiting response... 200 OK\n",
            "Length: 39208 (38K) [application/zip]\n",
            "Saving to: ‘3gLj0Q6’\n",
            "\n",
            "3gLj0Q6             100%[===================>]  38.29K  --.-KB/s    in 0.001s  \n",
            "\n",
            "2022-05-15 02:31:42 (69.4 MB/s) - ‘3gLj0Q6’ saved [39208/39208]\n",
            "\n"
          ]
        }
      ]
    },
    {
      "cell_type": "markdown",
      "metadata": {
        "id": "Q453R09NhqYM"
      },
      "source": [
        "## 실습\n",
        "---\n",
        "`train.csv` 의 결측치를 확인하는 코드를 작성해 보세요."
      ]
    },
    {
      "cell_type": "code",
      "metadata": {
        "id": "zAnhzBdphqBA",
        "outputId": "b6451eab-d72a-4c74-c08d-64e3224e6fdc",
        "colab": {
          "base_uri": "https://localhost:8080/"
        }
      },
      "source": [
        "import pandas as pd\n",
        "\n",
        "\n",
        "train = pd.read_csv('data/train.csv') \n",
        "test = pd.read_csv('data/test.csv')\n",
        "\n",
        "\n",
        "print(train.isnull())\n",
        "print('\\n------------------------train.csv 각 열 별 결측치 수------------------------\\n')\n",
        "print(train.isnull().sum())"
      ],
      "execution_count": null,
      "outputs": [
        {
          "output_type": "stream",
          "name": "stdout",
          "text": [
            "         id   hour  hour_bef_temperature  hour_bef_precipitation  \\\n",
            "0     False  False                 False                   False   \n",
            "1     False  False                 False                   False   \n",
            "2     False  False                 False                   False   \n",
            "3     False  False                 False                   False   \n",
            "4     False  False                 False                   False   \n",
            "...     ...    ...                   ...                     ...   \n",
            "1454  False  False                 False                   False   \n",
            "1455  False  False                 False                   False   \n",
            "1456  False  False                 False                   False   \n",
            "1457  False  False                 False                   False   \n",
            "1458  False  False                 False                   False   \n",
            "\n",
            "      hour_bef_windspeed  hour_bef_humidity  hour_bef_visibility  \\\n",
            "0                  False              False                False   \n",
            "1                  False              False                False   \n",
            "2                  False              False                False   \n",
            "3                  False              False                False   \n",
            "4                  False              False                False   \n",
            "...                  ...                ...                  ...   \n",
            "1454               False              False                False   \n",
            "1455               False              False                False   \n",
            "1456               False              False                False   \n",
            "1457               False              False                False   \n",
            "1458               False              False                False   \n",
            "\n",
            "      hour_bef_ozone  hour_bef_pm10  hour_bef_pm2.5  count  \n",
            "0              False          False           False  False  \n",
            "1              False          False           False  False  \n",
            "2              False          False           False  False  \n",
            "3              False          False           False  False  \n",
            "4              False          False           False  False  \n",
            "...              ...            ...             ...    ...  \n",
            "1454           False          False           False  False  \n",
            "1455           False          False           False  False  \n",
            "1456           False          False           False  False  \n",
            "1457           False          False           False  False  \n",
            "1458           False          False           False  False  \n",
            "\n",
            "[1459 rows x 11 columns]\n",
            "\n",
            "------------------------train.csv 각 열 별 결측치 수------------------------\n",
            "\n",
            "id                          0\n",
            "hour                        0\n",
            "hour_bef_temperature        2\n",
            "hour_bef_precipitation      2\n",
            "hour_bef_windspeed          9\n",
            "hour_bef_humidity           2\n",
            "hour_bef_visibility         2\n",
            "hour_bef_ozone             76\n",
            "hour_bef_pm10              90\n",
            "hour_bef_pm2.5            117\n",
            "count                       0\n",
            "dtype: int64\n"
          ]
        }
      ]
    },
    {
      "cell_type": "markdown",
      "metadata": {
        "id": "AUk_fCmVhtIc"
      },
      "source": [
        "## 정답\n",
        "---"
      ]
    },
    {
      "cell_type": "code",
      "metadata": {
        "id": "SXmFFc3Whp0_"
      },
      "source": [
        "import pandas as pd\n",
        "\n",
        "# 정답 코드\n",
        "train = pd.read_csv('data/train.csv') \n",
        "test = pd.read_csv('data/test.csv')\n",
        "\n",
        "print(train.isnull())\n",
        "print('\\n--------------------------------train.csv 각 열 별 결측치 수--------------------------------\\n')\n",
        "print(test.isnull().sum())"
      ],
      "execution_count": null,
      "outputs": []
    },
    {
      "cell_type": "markdown",
      "metadata": {
        "id": "zFK75NjutxXc"
      },
      "source": [
        "# [↩️ 리스트로 돌아가기](https://dacon.io/competitions/open/235698/overview/description)"
      ]
    }
  ]
}